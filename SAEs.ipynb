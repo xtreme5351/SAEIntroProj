{
 "cells": [
  {
   "metadata": {},
   "cell_type": "markdown",
   "source": [
    "# SAE Intro Project\n",
    "\n",
    "The following project and notebook is a simple introduction to the Sparse Auto Encoder (SAE).\n",
    "The project is split into two parts:\n",
    "1. A simple SAE implementation from scratch using Pytorch.\n",
    "2. A new SAE variant.\n"
   ],
   "id": "8a77807f92f26ee"
  },
  {
   "metadata": {},
   "cell_type": "code",
   "outputs": [],
   "execution_count": null,
   "source": [
    "# imports and globals setup\n",
    "import torch\n",
    "from transformers import AutoTokenizer, AutoModelForCausalLM\n",
    "import numpy as np\n",
    "import matplotlib.pyplot as plt\n",
    "from datasets import load_dataset\n",
    "\n",
    "# The LLM from which we shall build this SAE from\n",
    "model_name = \"EleutherAI/pythia-70m-deduped\"\n",
    "\n",
    "# The dataset we shall use to prompt the SAE while training\n",
    "dataset_name = \"monology/pile-uncopyrighted\"\n",
    "\n",
    "# Store activations here, from the layer which we are interested in\n",
    "# Might be a better way to do this but this is the simplest\n",
    "stored_activations = []\n",
    "\n",
    "# This is the layer we are interested in, in the model.\n",
    "# NB 0-based index, so 5 is the 6th layer\n",
    "# Choice of layer is kinda arbitrary, however we want to choose something that is not too deep\n",
    "# and not too shallow. This is a good trade-off in interpretability plus the Anthropic paper\n",
    "# suggests that these \"middle\" layers are a decent choice to start.\n",
    "chosen_layer = 5\n",
    "\n",
    "# The maximum number of tokens the input is truncated to.\n",
    "# This is important for VRAM safety, especially on smaller GPUs\n",
    "MAX_LEN_TRUNC = 128\n",
    "\n",
    "# This is the hook function, we shall call this during the forward pass\n",
    "# So we can  \"inspect\" the activations of the layer\n",
    "# by simply storing them in the global activations array\n",
    "def hook_fn(module, input, output):\n",
    "    stored_activations.append(output.detach().cpu())"
   ],
   "id": "fbc121e30a2defb3"
  },
  {
   "metadata": {},
   "cell_type": "markdown",
   "source": [
    "## Part 1: Simple SAE Implementation\n",
    "\n",
    "The following chunk of code is just pre-requisite code for setting up the SAE. This step 1."
   ],
   "id": "66c614223808e8e2"
  },
  {
   "metadata": {},
   "cell_type": "code",
   "outputs": [],
   "execution_count": null,
   "source": [
    "# Load the dataset and training prompts\n",
    "dataset = load_dataset(dataset_name, split=\"train\")\n",
    "prompts = [example[\"text\"] for example in dataset]\n",
    "\n",
    "# Load the model and tokenizer\n",
    "tokenizer = AutoTokenizer.from_pretrained(model_name)\n",
    "model = AutoModelForCausalLM.from_pretrained(model_name)\n",
    "\n",
    "# Move model to GPU if available, using MPS cause I have a Mac\n",
    "# Hopefully this should auto-detect which device to use\n",
    "device = torch.device(\"mps\"\n",
    "                        if torch.backends.mps.is_available() else \"cuda\"\n",
    "                        if torch.cuda.is_available() else \"cpu\")\n",
    "print(\"Using device:\", device) # print for sanity\n",
    "\n",
    "# Move model to device and set to eval mode\n",
    "model.to(device).eval()\n",
    "\n",
    "# Choose a layer — here, MLP from block 5\n",
    "target_layer = model.gpt_neox.layers[chosen_layer].mlp\n",
    "hook = target_layer.register_forward_hook(hook_fn)"
   ],
   "id": "731b8b921aefb815"
  },
  {
   "metadata": {},
   "cell_type": "markdown",
   "source": "EXPLAIN NEXT STEP HERE",
   "id": "18c343a4b5a3dde5"
  },
  {
   "metadata": {},
   "cell_type": "code",
   "outputs": [],
   "execution_count": null,
   "source": [
    "# Loop through all the prompts and tokenize them, saving the required activations\n",
    "for prompt in prompts:\n",
    "    pass"
   ],
   "id": "79715cf515f9eb86"
  }
 ],
 "metadata": {
  "kernelspec": {
   "display_name": "Python 3",
   "language": "python",
   "name": "python3"
  },
  "language_info": {
   "codemirror_mode": {
    "name": "ipython",
    "version": 2
   },
   "file_extension": ".py",
   "mimetype": "text/x-python",
   "name": "python",
   "nbconvert_exporter": "python",
   "pygments_lexer": "ipython2",
   "version": "2.7.6"
  }
 },
 "nbformat": 4,
 "nbformat_minor": 5
}
